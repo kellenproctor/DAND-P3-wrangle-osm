{
 "cells": [
  {
   "cell_type": "markdown",
   "metadata": {},
   "source": [
    "<a id='Top Doc'></a>"
   ]
  },
  {
   "cell_type": "markdown",
   "metadata": {},
   "source": [
    "# P3: Wrangling OpenStreetMap Data\n",
    "\n",
    "## Udacity Data Analyst NanoDegree\n",
    "___"
   ]
  },
  {
   "cell_type": "markdown",
   "metadata": {},
   "source": [
    "### Contents\n",
    "___\n",
    "\n",
    "1. [Map Data](#Map-Data)\n",
    "\n",
    "2. [Data Audit](#Data-Audit)\n",
    " \n",
    " a. [Data Structure](#Data-Structure)\n",
    " \n",
    " b. [Tag Attributes and Values](#Tag-Attributes-and-Values)\n",
    "\n",
    "[Data Cleaning](#Data-Cleaning)\n",
    "\n",
    "[References](#References)"
   ]
  },
  {
   "cell_type": "markdown",
   "metadata": {},
   "source": [
    "### Map Data\n",
    "___\n",
    "\n",
    "##### Los Angeles, California, USA\n",
    "[Mapzen](https://mapzen.com/data/metro-extracts/metro/los-angeles_california): `https://mapzen.com/data/metro-extracts/metro/los-angeles_california`\n",
    "\n",
    "I downloaded the initial los-angeles_california.osm dataset from Mapzen (not included in the repository). The original dataset is 8.6 GB large, and after trying to run some of the code from the courses locally, it crashed my computer. I proceeded to make a series of sample files to use (based off of the sample.py script given in the Project Details), which are described in this table:\n",
    "\n",
    "##### Sample files used for Project\n",
    "Name | K-val | Size | Lines | Note\n",
    "---|---:|---:|---:|---|\n",
    "*la-sample.osm* | 1,000 | 8.6 MB | 110,729 | This file was used to test early python data auditing and cleaning scripts.\n",
    "*la-med.osm* | 500 | 17.4 MB | 222,181 | Used as an intermediate test of the data auditing and cleaning scripts. Not included in this repository.\n",
    "*la-final.osm* | 150 | 58.0 MB | 741,172 | Final file used for auditing, cleaning, and importing into the MongoDB database. Not included in this repository, but can be added for resubmission if necessary.\n",
    "\n",
    "[Back To Contents](#Contents)"
   ]
  },
  {
   "cell_type": "markdown",
   "metadata": {},
   "source": [
    "### Data Audit\n",
    "___\n",
    "#### Data Structure\n",
    "\n",
    "After reviewing the [OSM XML Content][1] page, I wanted to check that the sample dataset actually had the tags and structure as described. Mainly that the XML was organized as blocks of ***nodes*** with tags for each node, ***ways*** with tags and references to their respectives nodes, and ***relations*** with tags and references too.\n",
    "\n",
    "Using and modifying the `mapparser.py` code from the MongoDB Case Study for OSM Data, I generated a dictionary with element tag names, counts, and attributes. A simple table with the results can be seen here:\n",
    "\n",
    "[1]: #References"
   ]
  },
  {
   "cell_type": "markdown",
   "metadata": {},
   "source": [
    "Name | Count | Attributes\n",
    "---|---:|---\n",
    "member   | 78     | ref, role, type\n",
    "nd       | 41,121 | ref\n",
    "node     | 37,437 | changeset, id, lat, lon, timestamp, uid, user, version\n",
    "relation | 32     | changeset, id, timestamp, uid, user, version\n",
    "tag      | 24,813 | k, v\n",
    "way      | 3,655  | changeset, id, timestamp, uid, user, version"
   ]
  },
  {
   "cell_type": "markdown",
   "metadata": {},
   "source": [
    "I further modified the `mapparser.py` to see the structure of the data. I named it `data_structure.py` and the results are here:"
   ]
  },
  {
   "cell_type": "code",
   "execution_count": 7,
   "metadata": {
    "collapsed": false
   },
   "outputs": [
    {
     "name": "stdout",
     "output_type": "stream",
     "text": [
      "{'member': {'count': 78},\n",
      " 'nd': {'count': 41121},\n",
      " 'node': {'count': 37437,\n",
      "          'tag': {'attributes': {'k': 968, 'v': 968}, 'count': 968}},\n",
      " 'osm': {'count': 1,\n",
      "         'node': {'attributes': {'changeset': 37437,\n",
      "                                 'id': 37437,\n",
      "                                 'lat': 37437,\n",
      "                                 'lon': 37437,\n",
      "                                 'timestamp': 37437,\n",
      "                                 'uid': 37437,\n",
      "                                 'user': 37437,\n",
      "                                 'version': 37437},\n",
      "                  'count': 37437},\n",
      "         'relation': {'attributes': {'changeset': 32,\n",
      "                                     'id': 32,\n",
      "                                     'timestamp': 32,\n",
      "                                     'uid': 32,\n",
      "                                     'user': 32,\n",
      "                                     'version': 32},\n",
      "                      'count': 32},\n",
      "         'way': {'attributes': {'changeset': 3655,\n",
      "                                'id': 3655,\n",
      "                                'timestamp': 3655,\n",
      "                                'uid': 3655,\n",
      "                                'user': 3655,\n",
      "                                'version': 3655},\n",
      "                 'count': 3655}},\n",
      " 'relation': {'count': 32,\n",
      "              'member': {'attributes': {'ref': 78, 'role': 78, 'type': 78},\n",
      "                         'count': 78},\n",
      "              'tag': {'attributes': {'k': 205, 'v': 205}, 'count': 205}},\n",
      " 'tag': {'count': 24813},\n",
      " 'way': {'count': 3655,\n",
      "         'nd': {'attributes': {'ref': 41121}, 'count': 41121},\n",
      "         'tag': {'attributes': {'k': 23640, 'v': 23640}, 'count': 23640}}}\n"
     ]
    }
   ],
   "source": [
    "run data_structure.py"
   ]
  },
  {
   "cell_type": "markdown",
   "metadata": {},
   "source": [
    "Right away, you can see that ***nodes***, ***ways***, and ***members*** do in fact have the ***tag*** and ***nd*** tags as described by the OSM XML Content page. I also printed out the attributes, and nothing seems out of place. Further, the counts for each of the attributes matches the count of the tags themselves, so I don't have to worry about fixing any of those.\n",
    "\n",
    "Interestingly, there are some uncertainties mentioned some problems that could merit further investigation if the data cleaning and auditing functions were to be used as a service in any way. Of note are that id or usernames not necessarily being present, untagged unconnected nodes, element IDs that are negative, among others. It would be important to implement a solution to check and correct these problems."
   ]
  },
  {
   "cell_type": "markdown",
   "metadata": {},
   "source": [
    "#### Tag Attributes and Values\n",
    "\n",
    "The attributes for the tags member, nd, node, relation, and way seem to be fairly straightforward and easy to organize, so my Data Cleaning plan will organize those in a simple manner. However, the tag attributes may be a little more difficult to work with. Since the attribute ***k*** represents ***key***, which is assigned by the human user, there can be any number of different values for the k attribute. "
   ]
  },
  {
   "cell_type": "markdown",
   "metadata": {},
   "source": [
    "### Data Cleaning\n",
    "___\n",
    "\n",
    "\n",
    "[Back To Contents](#Contents)"
   ]
  },
  {
   "cell_type": "markdown",
   "metadata": {},
   "source": [
    "### References\n",
    "___\n",
    "\n",
    "1. [OSM XML Contents](https://wiki.openstreetmap.org/wiki/OSM_XML#Contents): `https://wiki.openstreetmap.org/wiki/OSM_XML#Contents`\n",
    "\n",
    "___\n",
    "[Back To Contents](#Contents)"
   ]
  }
 ],
 "metadata": {
  "anaconda-cloud": {},
  "kernelspec": {
   "display_name": "Python [conda env:dandy]",
   "language": "python",
   "name": "conda-env-dandy-py"
  },
  "language_info": {
   "codemirror_mode": {
    "name": "ipython",
    "version": 2
   },
   "file_extension": ".py",
   "mimetype": "text/x-python",
   "name": "python",
   "nbconvert_exporter": "python",
   "pygments_lexer": "ipython2",
   "version": "2.7.12"
  }
 },
 "nbformat": 4,
 "nbformat_minor": 2
}
